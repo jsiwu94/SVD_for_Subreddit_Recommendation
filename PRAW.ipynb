{
 "cells": [
  {
   "cell_type": "markdown",
   "metadata": {},
   "source": [
    "# Getting the Data Using Reddit API (PRAW)"
   ]
  },
  {
   "cell_type": "code",
   "execution_count": 12,
   "metadata": {},
   "outputs": [],
   "source": [
    "import praw\n",
    "import configparser\n",
    "import random\n",
    "import pandas as pd\n",
    "import numpy as np\n",
    "import sys"
   ]
  },
  {
   "cell_type": "code",
   "execution_count": 13,
   "metadata": {},
   "outputs": [],
   "source": [
    "reddit = praw.Reddit(client_id='Si81-WNFEeTb1w',\n",
    "                    client_secret='ndqNnvsuiAWyi-fqvK8h-dsZqqo',\n",
    "                    user_agent='subreddit_data')"
   ]
  },
  {
   "cell_type": "markdown",
   "metadata": {},
   "source": [
    "## Initial Simple API Command Test"
   ]
  },
  {
   "cell_type": "code",
   "execution_count": 3,
   "metadata": {},
   "outputs": [
    {
     "name": "stdout",
     "output_type": "stream",
     "text": [
      "TIL actor Robert Pattinson dealt with an obsessed fan who had been camping outside his apartment by taking her out on a dinner date. \"I just complained about everything in my life and she never came back.\"\n",
      "Pay your fucking employees. This is some dystopian shit.\n",
      "For my birthday this year, my wife asked what kind of cake she should make... and I told her that, honestly, I've always wanted to try Peach's thank-you cake from the end of Super Mario 64.\n",
      "Poor kid...hahaha\n",
      "Every morning this dog waits for his girls to get on bus.\n"
     ]
    }
   ],
   "source": [
    "for submission in reddit.subreddit('all').hot(limit=5):\n",
    "    print(submission.title)"
   ]
  },
  {
   "cell_type": "code",
   "execution_count": 4,
   "metadata": {},
   "outputs": [
    {
     "name": "stdout",
     "output_type": "stream",
     "text": [
      "5 submissions completed\n",
      "10 submissions completed\n"
     ]
    }
   ],
   "source": [
    "python_title = []\n",
    "time = []\n",
    "num_upvotes = []\n",
    "num_comments = []\n",
    "upvote_ratio = []\n",
    "link_flair = []\n",
    "redditor = []\n",
    "i=0\n",
    "for submission in reddit.subreddit('learnpython').top(limit=10):\n",
    "    i+=1\n",
    "    python_title.append(submission.title)\n",
    "    time.append(submission.created_utc)\n",
    "    num_upvotes.append(submission.score)\n",
    "    num_comments.append(submission.num_comments)\n",
    "    upvote_ratio.append(submission.upvote_ratio)\n",
    "    link_flair.append(submission.link_flair_text)\n",
    "    redditor.append(submission.author)\n",
    "    if i%5 == 0:\n",
    "        print(f'{i} submissions completed')"
   ]
  },
  {
   "cell_type": "code",
   "execution_count": 5,
   "metadata": {},
   "outputs": [
    {
     "data": {
      "text/html": [
       "<div>\n",
       "<style scoped>\n",
       "    .dataframe tbody tr th:only-of-type {\n",
       "        vertical-align: middle;\n",
       "    }\n",
       "\n",
       "    .dataframe tbody tr th {\n",
       "        vertical-align: top;\n",
       "    }\n",
       "\n",
       "    .dataframe thead th {\n",
       "        text-align: right;\n",
       "    }\n",
       "</style>\n",
       "<table border=\"1\" class=\"dataframe\">\n",
       "  <thead>\n",
       "    <tr style=\"text-align: right;\">\n",
       "      <th></th>\n",
       "      <th>python_title</th>\n",
       "      <th>time</th>\n",
       "      <th>num_comments</th>\n",
       "      <th>num_upvotes</th>\n",
       "      <th>upvote_ratio</th>\n",
       "      <th>link_flair</th>\n",
       "      <th>redditor</th>\n",
       "    </tr>\n",
       "  </thead>\n",
       "  <tbody>\n",
       "    <tr>\n",
       "      <th>0</th>\n",
       "      <td>The online course for \"Automate the Boring Stu...</td>\n",
       "      <td>1.560203e+09</td>\n",
       "      <td>245</td>\n",
       "      <td>2079</td>\n",
       "      <td>0.99</td>\n",
       "      <td>None</td>\n",
       "      <td>AlSweigart</td>\n",
       "    </tr>\n",
       "    <tr>\n",
       "      <th>1</th>\n",
       "      <td>I'm 100% self taught, landed my first job! My ...</td>\n",
       "      <td>1.566412e+09</td>\n",
       "      <td>311</td>\n",
       "      <td>1837</td>\n",
       "      <td>0.99</td>\n",
       "      <td>None</td>\n",
       "      <td>JLaurus</td>\n",
       "    </tr>\n",
       "    <tr>\n",
       "      <th>2</th>\n",
       "      <td>Beginner's Python Cheat Sheets (updated)</td>\n",
       "      <td>1.571419e+09</td>\n",
       "      <td>131</td>\n",
       "      <td>1406</td>\n",
       "      <td>0.99</td>\n",
       "      <td>None</td>\n",
       "      <td>ehmatthes</td>\n",
       "    </tr>\n",
       "    <tr>\n",
       "      <th>3</th>\n",
       "      <td>I'm super annoyed and taking it out on learnpy...</td>\n",
       "      <td>1.560047e+09</td>\n",
       "      <td>256</td>\n",
       "      <td>1373</td>\n",
       "      <td>0.97</td>\n",
       "      <td>None</td>\n",
       "      <td>SpergLordMcFappyPant</td>\n",
       "    </tr>\n",
       "    <tr>\n",
       "      <th>4</th>\n",
       "      <td>Why study programming when you can just play a...</td>\n",
       "      <td>1.551413e+09</td>\n",
       "      <td>181</td>\n",
       "      <td>1099</td>\n",
       "      <td>0.97</td>\n",
       "      <td>None</td>\n",
       "      <td>TorroesPrime</td>\n",
       "    </tr>\n",
       "    <tr>\n",
       "      <th>5</th>\n",
       "      <td>Automate the Boring Stuff FREE on Udemy</td>\n",
       "      <td>1.572898e+09</td>\n",
       "      <td>96</td>\n",
       "      <td>987</td>\n",
       "      <td>0.99</td>\n",
       "      <td>None</td>\n",
       "      <td>TechsInTheCity</td>\n",
       "    </tr>\n",
       "    <tr>\n",
       "      <th>6</th>\n",
       "      <td>\"Automate the Boring Stuff with Python\" Udemy ...</td>\n",
       "      <td>1.575339e+09</td>\n",
       "      <td>92</td>\n",
       "      <td>906</td>\n",
       "      <td>0.99</td>\n",
       "      <td>None</td>\n",
       "      <td>AlSweigart</td>\n",
       "    </tr>\n",
       "    <tr>\n",
       "      <th>7</th>\n",
       "      <td>\"Automate the Boring Stuff\" author refactoring...</td>\n",
       "      <td>1.555450e+09</td>\n",
       "      <td>67</td>\n",
       "      <td>901</td>\n",
       "      <td>0.99</td>\n",
       "      <td>None</td>\n",
       "      <td>AlSweigart</td>\n",
       "    </tr>\n",
       "    <tr>\n",
       "      <th>8</th>\n",
       "      <td>Al Sweigart, author of the legendary 'Automate...</td>\n",
       "      <td>1.549548e+09</td>\n",
       "      <td>56</td>\n",
       "      <td>855</td>\n",
       "      <td>0.99</td>\n",
       "      <td>None</td>\n",
       "      <td>callmelucky</td>\n",
       "    </tr>\n",
       "    <tr>\n",
       "      <th>9</th>\n",
       "      <td>Nothing is more liberating than learning pytho...</td>\n",
       "      <td>1.566807e+09</td>\n",
       "      <td>51</td>\n",
       "      <td>851</td>\n",
       "      <td>0.98</td>\n",
       "      <td>None</td>\n",
       "      <td>GeneticalTM</td>\n",
       "    </tr>\n",
       "  </tbody>\n",
       "</table>\n",
       "</div>"
      ],
      "text/plain": [
       "                                        python_title          time  \\\n",
       "0  The online course for \"Automate the Boring Stu...  1.560203e+09   \n",
       "1  I'm 100% self taught, landed my first job! My ...  1.566412e+09   \n",
       "2           Beginner's Python Cheat Sheets (updated)  1.571419e+09   \n",
       "3  I'm super annoyed and taking it out on learnpy...  1.560047e+09   \n",
       "4  Why study programming when you can just play a...  1.551413e+09   \n",
       "5            Automate the Boring Stuff FREE on Udemy  1.572898e+09   \n",
       "6  \"Automate the Boring Stuff with Python\" Udemy ...  1.575339e+09   \n",
       "7  \"Automate the Boring Stuff\" author refactoring...  1.555450e+09   \n",
       "8  Al Sweigart, author of the legendary 'Automate...  1.549548e+09   \n",
       "9  Nothing is more liberating than learning pytho...  1.566807e+09   \n",
       "\n",
       "   num_comments  num_upvotes  upvote_ratio link_flair              redditor  \n",
       "0           245         2079          0.99       None            AlSweigart  \n",
       "1           311         1837          0.99       None               JLaurus  \n",
       "2           131         1406          0.99       None             ehmatthes  \n",
       "3           256         1373          0.97       None  SpergLordMcFappyPant  \n",
       "4           181         1099          0.97       None          TorroesPrime  \n",
       "5            96          987          0.99       None        TechsInTheCity  \n",
       "6            92          906          0.99       None            AlSweigart  \n",
       "7            67          901          0.99       None            AlSweigart  \n",
       "8            56          855          0.99       None           callmelucky  \n",
       "9            51          851          0.98       None           GeneticalTM  "
      ]
     },
     "execution_count": 5,
     "metadata": {},
     "output_type": "execute_result"
    }
   ],
   "source": [
    "df = pd.DataFrame(\n",
    "    {'python_title': python_title,\n",
    "     'time': time,\n",
    "     'num_comments': num_comments,\n",
    "     'num_upvotes': num_upvotes,\n",
    "     'upvote_ratio': upvote_ratio,\n",
    "     'link_flair': link_flair,\n",
    "     'redditor': redditor\n",
    "    })\n",
    "df.head(10)"
   ]
  },
  {
   "cell_type": "markdown",
   "metadata": {},
   "source": [
    "## Getting The Subreddit Dataset for Analysis :\n",
    "- 15,000 unique redditor\n",
    "- their subreddit submissions\n",
    "- utc (for timestamp)"
   ]
  },
  {
   "cell_type": "code",
   "execution_count": 4,
   "metadata": {},
   "outputs": [
    {
     "name": "stdout",
     "output_type": "stream",
     "text": [
      "971 unique users retrieved\n"
     ]
    }
   ],
   "source": [
    "r = reddit.subreddit('all').top(limit=15000)\n",
    "redditor = []\n",
    "subreddit_name = []\n",
    "utc = []\n",
    "i=0\n",
    "\n",
    "for submission in r:\n",
    "    redditor.append(submission.author)\n",
    "    subreddit_name.append(submission.subreddit)\n",
    "    utc.append(submission.created_utc)\n",
    "    i+=1\n",
    "print(f'{i} unique users retrieved')"
   ]
  },
  {
   "cell_type": "code",
   "execution_count": 17,
   "metadata": {},
   "outputs": [
    {
     "data": {
      "text/plain": [
       "[Redditor(name='iH8myPP'),\n",
       " Redditor(name='Itsjorgehernandez'),\n",
       " Redditor(name='SrGrafo'),\n",
       " Redditor(name='SageMo'),\n",
       " Redditor(name='datbanter'),\n",
       " Redditor(name='foxeydog'),\n",
       " Redditor(name='rightcoastguy'),\n",
       " Redditor(name='System32Comics'),\n",
       " Redditor(name='Sickpupz'),\n",
       " Redditor(name='iswearidk')]"
      ]
     },
     "execution_count": 17,
     "metadata": {},
     "output_type": "execute_result"
    }
   ],
   "source": [
    "redditor[:10]"
   ]
  },
  {
   "cell_type": "code",
   "execution_count": 18,
   "metadata": {},
   "outputs": [
    {
     "data": {
      "text/plain": [
       "[Subreddit(display_name='funny'),\n",
       " Subreddit(display_name='pics'),\n",
       " Subreddit(display_name='gaming'),\n",
       " Subreddit(display_name='news'),\n",
       " Subreddit(display_name='pics'),\n",
       " Subreddit(display_name='pics'),\n",
       " Subreddit(display_name='pics'),\n",
       " Subreddit(display_name='funny'),\n",
       " Subreddit(display_name='memes'),\n",
       " Subreddit(display_name='gifs')]"
      ]
     },
     "execution_count": 18,
     "metadata": {},
     "output_type": "execute_result"
    }
   ],
   "source": [
    "subreddit_name[:10]"
   ]
  },
  {
   "cell_type": "code",
   "execution_count": 19,
   "metadata": {},
   "outputs": [
    {
     "data": {
      "text/plain": [
       "[1480959674.0,\n",
       " 1478651245.0,\n",
       " 1563035293.0,\n",
       " 1570653917.0,\n",
       " 1486400800.0,\n",
       " 1565569541.0,\n",
       " 1565375556.0,\n",
       " 1568139947.0,\n",
       " 1561206210.0,\n",
       " 1482425855.0]"
      ]
     },
     "execution_count": 19,
     "metadata": {},
     "output_type": "execute_result"
    }
   ],
   "source": [
    "utc[:10]"
   ]
  },
  {
   "cell_type": "code",
   "execution_count": 20,
   "metadata": {},
   "outputs": [
    {
     "data": {
      "text/html": [
       "<div>\n",
       "<style scoped>\n",
       "    .dataframe tbody tr th:only-of-type {\n",
       "        vertical-align: middle;\n",
       "    }\n",
       "\n",
       "    .dataframe tbody tr th {\n",
       "        vertical-align: top;\n",
       "    }\n",
       "\n",
       "    .dataframe thead th {\n",
       "        text-align: right;\n",
       "    }\n",
       "</style>\n",
       "<table border=\"1\" class=\"dataframe\">\n",
       "  <thead>\n",
       "    <tr style=\"text-align: right;\">\n",
       "      <th></th>\n",
       "      <th>username</th>\n",
       "      <th>subreddit</th>\n",
       "      <th>utc</th>\n",
       "    </tr>\n",
       "  </thead>\n",
       "  <tbody>\n",
       "    <tr>\n",
       "      <th>0</th>\n",
       "      <td>iH8myPP</td>\n",
       "      <td>funny</td>\n",
       "      <td>1.480960e+09</td>\n",
       "    </tr>\n",
       "    <tr>\n",
       "      <th>1</th>\n",
       "      <td>Itsjorgehernandez</td>\n",
       "      <td>pics</td>\n",
       "      <td>1.478651e+09</td>\n",
       "    </tr>\n",
       "    <tr>\n",
       "      <th>2</th>\n",
       "      <td>SrGrafo</td>\n",
       "      <td>gaming</td>\n",
       "      <td>1.563035e+09</td>\n",
       "    </tr>\n",
       "    <tr>\n",
       "      <th>3</th>\n",
       "      <td>SageMo</td>\n",
       "      <td>news</td>\n",
       "      <td>1.570654e+09</td>\n",
       "    </tr>\n",
       "    <tr>\n",
       "      <th>4</th>\n",
       "      <td>datbanter</td>\n",
       "      <td>pics</td>\n",
       "      <td>1.486401e+09</td>\n",
       "    </tr>\n",
       "    <tr>\n",
       "      <th>5</th>\n",
       "      <td>foxeydog</td>\n",
       "      <td>pics</td>\n",
       "      <td>1.565570e+09</td>\n",
       "    </tr>\n",
       "    <tr>\n",
       "      <th>6</th>\n",
       "      <td>rightcoastguy</td>\n",
       "      <td>pics</td>\n",
       "      <td>1.565376e+09</td>\n",
       "    </tr>\n",
       "    <tr>\n",
       "      <th>7</th>\n",
       "      <td>System32Comics</td>\n",
       "      <td>funny</td>\n",
       "      <td>1.568140e+09</td>\n",
       "    </tr>\n",
       "    <tr>\n",
       "      <th>8</th>\n",
       "      <td>Sickpupz</td>\n",
       "      <td>memes</td>\n",
       "      <td>1.561206e+09</td>\n",
       "    </tr>\n",
       "    <tr>\n",
       "      <th>9</th>\n",
       "      <td>iswearidk</td>\n",
       "      <td>gifs</td>\n",
       "      <td>1.482426e+09</td>\n",
       "    </tr>\n",
       "  </tbody>\n",
       "</table>\n",
       "</div>"
      ],
      "text/plain": [
       "            username subreddit           utc\n",
       "0            iH8myPP     funny  1.480960e+09\n",
       "1  Itsjorgehernandez      pics  1.478651e+09\n",
       "2            SrGrafo    gaming  1.563035e+09\n",
       "3             SageMo      news  1.570654e+09\n",
       "4          datbanter      pics  1.486401e+09\n",
       "5           foxeydog      pics  1.565570e+09\n",
       "6      rightcoastguy      pics  1.565376e+09\n",
       "7     System32Comics     funny  1.568140e+09\n",
       "8           Sickpupz     memes  1.561206e+09\n",
       "9          iswearidk      gifs  1.482426e+09"
      ]
     },
     "execution_count": 20,
     "metadata": {},
     "output_type": "execute_result"
    }
   ],
   "source": [
    "reddit = pd.DataFrame(\n",
    "    {'username': redditor,\n",
    "     'subreddit': subreddit_name,\n",
    "     'utc': utc\n",
    "    })\n",
    "reddit.head(10)"
   ]
  },
  {
   "cell_type": "code",
   "execution_count": 21,
   "metadata": {},
   "outputs": [],
   "source": [
    "reddit.to_csv('../reddit_praw.csv')"
   ]
  }
 ],
 "metadata": {
  "kernelspec": {
   "display_name": "Python 3",
   "language": "python",
   "name": "python3"
  },
  "language_info": {
   "codemirror_mode": {
    "name": "ipython",
    "version": 3
   },
   "file_extension": ".py",
   "mimetype": "text/x-python",
   "name": "python",
   "nbconvert_exporter": "python",
   "pygments_lexer": "ipython3",
   "version": "3.7.4"
  }
 },
 "nbformat": 4,
 "nbformat_minor": 2
}
