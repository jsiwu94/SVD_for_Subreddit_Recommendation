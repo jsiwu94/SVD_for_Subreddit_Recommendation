{
 "cells": [
  {
   "cell_type": "code",
   "execution_count": 2,
   "metadata": {},
   "outputs": [],
   "source": [
    "import numpy as np\n",
    "import pandas as pd\n",
    "import math as mt\n",
    "import csv\n",
    "from pandas import DataFrame,Series,read_csv\n",
    "import scipy\n",
    "import scipy.sparse as sp\n",
    "from sparsesvd import sparsesvd        #used for matrix factorization\n",
    "from scipy.sparse import csc_matrix    #used for sparse matrix\n",
    "from scipy.sparse.linalg import *      #used for matrix multiplication"
   ]
  },
  {
   "cell_type": "code",
   "execution_count": 3,
   "metadata": {},
   "outputs": [],
   "source": [
    "reddit_df = read_csv('/Users/jenniferwu/Documents/SVD_for_Subreddit_Recommendation/reddit_praw.csv')\n",
    "reddit_df.drop(columns=['Unnamed: 0'], inplace=True)"
   ]
  },
  {
   "cell_type": "code",
   "execution_count": 6,
   "metadata": {},
   "outputs": [
    {
     "data": {
      "text/html": [
       "<div>\n",
       "<style scoped>\n",
       "    .dataframe tbody tr th:only-of-type {\n",
       "        vertical-align: middle;\n",
       "    }\n",
       "\n",
       "    .dataframe tbody tr th {\n",
       "        vertical-align: top;\n",
       "    }\n",
       "\n",
       "    .dataframe thead th {\n",
       "        text-align: right;\n",
       "    }\n",
       "</style>\n",
       "<table border=\"1\" class=\"dataframe\">\n",
       "  <thead>\n",
       "    <tr style=\"text-align: right;\">\n",
       "      <th></th>\n",
       "      <th>username</th>\n",
       "      <th>subreddit</th>\n",
       "      <th>utc</th>\n",
       "    </tr>\n",
       "  </thead>\n",
       "  <tbody>\n",
       "    <tr>\n",
       "      <th>0</th>\n",
       "      <td>kabanossi</td>\n",
       "      <td>photoshopbattles</td>\n",
       "      <td>1.482748e+09</td>\n",
       "    </tr>\n",
       "    <tr>\n",
       "      <th>1</th>\n",
       "      <td>kabanossi</td>\n",
       "      <td>GetMotivated</td>\n",
       "      <td>1.482748e+09</td>\n",
       "    </tr>\n",
       "    <tr>\n",
       "      <th>2</th>\n",
       "      <td>kabanossi</td>\n",
       "      <td>vmware</td>\n",
       "      <td>1.482748e+09</td>\n",
       "    </tr>\n",
       "    <tr>\n",
       "      <th>3</th>\n",
       "      <td>kabanossi</td>\n",
       "      <td>carporn</td>\n",
       "      <td>1.482748e+09</td>\n",
       "    </tr>\n",
       "    <tr>\n",
       "      <th>4</th>\n",
       "      <td>kabanossi</td>\n",
       "      <td>DIY</td>\n",
       "      <td>1.482747e+09</td>\n",
       "    </tr>\n",
       "  </tbody>\n",
       "</table>\n",
       "</div>"
      ],
      "text/plain": [
       "    username         subreddit           utc\n",
       "0  kabanossi  photoshopbattles  1.482748e+09\n",
       "1  kabanossi      GetMotivated  1.482748e+09\n",
       "2  kabanossi            vmware  1.482748e+09\n",
       "3  kabanossi           carporn  1.482748e+09\n",
       "4  kabanossi               DIY  1.482747e+09"
      ]
     },
     "execution_count": 6,
     "metadata": {},
     "output_type": "execute_result"
    }
   ],
   "source": [
    "reddit_df.head()"
   ]
  },
  {
   "cell_type": "code",
   "execution_count": 111,
   "metadata": {},
   "outputs": [
    {
     "name": "stdout",
     "output_type": "stream",
     "text": [
      "unique reddittor: 15000\n",
      "unique subreddit: 29281\n",
      "total data entry: (9391244, 3)\n"
     ]
    }
   ],
   "source": [
    "user = reddit_df.username.unique()\n",
    "subreddit = reddit_df.subreddit.unique()\n",
    "print('unique reddittor:',len(user)+1)\n",
    "print('unique subreddit:',len(subreddit)+1)\n",
    "print('total data entry:',reddit_df.shape)"
   ]
  },
  {
   "cell_type": "code",
   "execution_count": 12,
   "metadata": {},
   "outputs": [
    {
     "name": "stdout",
     "output_type": "stream",
     "text": [
      "Are there null values from our API dataset?  \n",
      "username     False\n",
      "subreddit    False\n",
      "utc          False\n",
      "dtype: bool\n"
     ]
    }
   ],
   "source": [
    "print(\"Are there null values from our API dataset?  \\n\" + str(reddit_df.isnull().any()))"
   ]
  },
  {
   "cell_type": "code",
   "execution_count": 40,
   "metadata": {},
   "outputs": [
    {
     "data": {
      "text/html": [
       "<div>\n",
       "<style scoped>\n",
       "    .dataframe tbody tr th:only-of-type {\n",
       "        vertical-align: middle;\n",
       "    }\n",
       "\n",
       "    .dataframe tbody tr th {\n",
       "        vertical-align: top;\n",
       "    }\n",
       "\n",
       "    .dataframe thead th {\n",
       "        text-align: right;\n",
       "    }\n",
       "</style>\n",
       "<table border=\"1\" class=\"dataframe\">\n",
       "  <thead>\n",
       "    <tr style=\"text-align: right;\">\n",
       "      <th></th>\n",
       "      <th>subreddit</th>\n",
       "      <th>username_count</th>\n",
       "      <th>cummulative_pct</th>\n",
       "    </tr>\n",
       "  </thead>\n",
       "  <tbody>\n",
       "    <tr>\n",
       "      <th>0</th>\n",
       "      <td>AskReddit</td>\n",
       "      <td>683932</td>\n",
       "      <td>7.282656</td>\n",
       "    </tr>\n",
       "    <tr>\n",
       "      <th>1</th>\n",
       "      <td>politics</td>\n",
       "      <td>260215</td>\n",
       "      <td>10.053482</td>\n",
       "    </tr>\n",
       "    <tr>\n",
       "      <th>2</th>\n",
       "      <td>The_Donald</td>\n",
       "      <td>146480</td>\n",
       "      <td>11.613232</td>\n",
       "    </tr>\n",
       "    <tr>\n",
       "      <th>3</th>\n",
       "      <td>nfl</td>\n",
       "      <td>122088</td>\n",
       "      <td>12.913252</td>\n",
       "    </tr>\n",
       "    <tr>\n",
       "      <th>4</th>\n",
       "      <td>worldnews</td>\n",
       "      <td>109187</td>\n",
       "      <td>14.075899</td>\n",
       "    </tr>\n",
       "  </tbody>\n",
       "</table>\n",
       "</div>"
      ],
      "text/plain": [
       "    subreddit  username_count  cummulative_pct\n",
       "0   AskReddit          683932         7.282656\n",
       "1    politics          260215        10.053482\n",
       "2  The_Donald          146480        11.613232\n",
       "3         nfl          122088        12.913252\n",
       "4   worldnews          109187        14.075899"
      ]
     },
     "execution_count": 40,
     "metadata": {},
     "output_type": "execute_result"
    }
   ],
   "source": [
    "top_subreddit = reddit_df.groupby(['subreddit']\n",
    "                                      , as_index=False).agg({'username': 'count'}).sort_values(by=['username']\n",
    "                                      , ascending=False).reset_index(drop=True).rename(columns={'username':'username_count'})\n",
    "top_subreddit['cummulative_pct']  = top_subreddit.username_count.cumsum()/top_subreddit.username_count.sum()*100\n",
    "top_subreddit.head()"
   ]
  },
  {
   "cell_type": "markdown",
   "metadata": {},
   "source": [
    "# Evaluating our SVD Model"
   ]
  },
  {
   "cell_type": "code",
   "execution_count": 16,
   "metadata": {},
   "outputs": [
    {
     "data": {
      "text/html": [
       "<div>\n",
       "<style scoped>\n",
       "    .dataframe tbody tr th:only-of-type {\n",
       "        vertical-align: middle;\n",
       "    }\n",
       "\n",
       "    .dataframe tbody tr th {\n",
       "        vertical-align: top;\n",
       "    }\n",
       "\n",
       "    .dataframe thead th {\n",
       "        text-align: right;\n",
       "    }\n",
       "</style>\n",
       "<table border=\"1\" class=\"dataframe\">\n",
       "  <thead>\n",
       "    <tr style=\"text-align: right;\">\n",
       "      <th></th>\n",
       "      <th>username</th>\n",
       "      <th>subreddit</th>\n",
       "      <th>submission_freq</th>\n",
       "      <th>most_recent_timestamp</th>\n",
       "    </tr>\n",
       "  </thead>\n",
       "  <tbody>\n",
       "    <tr>\n",
       "      <th>603462</th>\n",
       "      <td>zwingo</td>\n",
       "      <td>technology</td>\n",
       "      <td>3</td>\n",
       "      <td>1.479072e+09</td>\n",
       "    </tr>\n",
       "    <tr>\n",
       "      <th>603463</th>\n",
       "      <td>zwingo</td>\n",
       "      <td>television</td>\n",
       "      <td>6</td>\n",
       "      <td>1.481714e+09</td>\n",
       "    </tr>\n",
       "    <tr>\n",
       "      <th>603464</th>\n",
       "      <td>zwingo</td>\n",
       "      <td>todayilearned</td>\n",
       "      <td>5</td>\n",
       "      <td>1.480154e+09</td>\n",
       "    </tr>\n",
       "    <tr>\n",
       "      <th>603465</th>\n",
       "      <td>zwingo</td>\n",
       "      <td>tumblr</td>\n",
       "      <td>3</td>\n",
       "      <td>1.477503e+09</td>\n",
       "    </tr>\n",
       "    <tr>\n",
       "      <th>603466</th>\n",
       "      <td>zwingo</td>\n",
       "      <td>videos</td>\n",
       "      <td>31</td>\n",
       "      <td>1.477933e+09</td>\n",
       "    </tr>\n",
       "    <tr>\n",
       "      <th>603467</th>\n",
       "      <td>zwingo</td>\n",
       "      <td>weed</td>\n",
       "      <td>10</td>\n",
       "      <td>1.481396e+09</td>\n",
       "    </tr>\n",
       "    <tr>\n",
       "      <th>603468</th>\n",
       "      <td>zwingo</td>\n",
       "      <td>worldnews</td>\n",
       "      <td>10</td>\n",
       "      <td>1.481361e+09</td>\n",
       "    </tr>\n",
       "    <tr>\n",
       "      <th>603469</th>\n",
       "      <td>zzjm</td>\n",
       "      <td>getdisciplined</td>\n",
       "      <td>3</td>\n",
       "      <td>1.482980e+09</td>\n",
       "    </tr>\n",
       "    <tr>\n",
       "      <th>603470</th>\n",
       "      <td>zzvilzz</td>\n",
       "      <td>FFBraveExvius</td>\n",
       "      <td>26</td>\n",
       "      <td>1.482995e+09</td>\n",
       "    </tr>\n",
       "    <tr>\n",
       "      <th>603471</th>\n",
       "      <td>zzvilzz</td>\n",
       "      <td>ffbe</td>\n",
       "      <td>8</td>\n",
       "      <td>1.482940e+09</td>\n",
       "    </tr>\n",
       "  </tbody>\n",
       "</table>\n",
       "</div>"
      ],
      "text/plain": [
       "       username       subreddit  submission_freq  most_recent_timestamp\n",
       "603462   zwingo      technology                3           1.479072e+09\n",
       "603463   zwingo      television                6           1.481714e+09\n",
       "603464   zwingo   todayilearned                5           1.480154e+09\n",
       "603465   zwingo          tumblr                3           1.477503e+09\n",
       "603466   zwingo          videos               31           1.477933e+09\n",
       "603467   zwingo            weed               10           1.481396e+09\n",
       "603468   zwingo       worldnews               10           1.481361e+09\n",
       "603469     zzjm  getdisciplined                3           1.482980e+09\n",
       "603470  zzvilzz   FFBraveExvius               26           1.482995e+09\n",
       "603471  zzvilzz            ffbe                8           1.482940e+09"
      ]
     },
     "execution_count": 16,
     "metadata": {},
     "output_type": "execute_result"
    }
   ],
   "source": [
    "user_subred_df = reddit_df.groupby(['username','subreddit']).agg({'subreddit':'count',\n",
    "                                                                 'utc':'max'}).\\\n",
    "              rename(columns={'subreddit':'submission_freq','utc':'most_recent_timestamp'}).reset_index()\n",
    "user_subred_df.tail(10)"
   ]
  },
  {
   "cell_type": "code",
   "execution_count": 25,
   "metadata": {},
   "outputs": [
    {
     "data": {
      "text/html": [
       "<div>\n",
       "<style scoped>\n",
       "    .dataframe tbody tr th:only-of-type {\n",
       "        vertical-align: middle;\n",
       "    }\n",
       "\n",
       "    .dataframe tbody tr th {\n",
       "        vertical-align: top;\n",
       "    }\n",
       "\n",
       "    .dataframe thead th {\n",
       "        text-align: right;\n",
       "    }\n",
       "</style>\n",
       "<table border=\"1\" class=\"dataframe\">\n",
       "  <thead>\n",
       "    <tr style=\"text-align: right;\">\n",
       "      <th></th>\n",
       "      <th>username</th>\n",
       "      <th>subreddit</th>\n",
       "    </tr>\n",
       "  </thead>\n",
       "  <tbody>\n",
       "    <tr>\n",
       "      <th>0</th>\n",
       "      <td>--ANUSTART-</td>\n",
       "      <td>news news AdviceAnimals AskReddit explainlikei...</td>\n",
       "    </tr>\n",
       "    <tr>\n",
       "      <th>1</th>\n",
       "      <td>--Sko--</td>\n",
       "      <td>DestinyTheGame DestinyTheGame DestinyTheGame C...</td>\n",
       "    </tr>\n",
       "    <tr>\n",
       "      <th>2</th>\n",
       "      <td>--UNKN0WN--</td>\n",
       "      <td>AceAttorney AceAttorney AceAttorney AceAttorne...</td>\n",
       "    </tr>\n",
       "    <tr>\n",
       "      <th>3</th>\n",
       "      <td>--harley--quinn--</td>\n",
       "      <td>AskReddit RoastMe tifu AskReddit funny Patriot...</td>\n",
       "    </tr>\n",
       "    <tr>\n",
       "      <th>4</th>\n",
       "      <td>-A-p-r-i-l-</td>\n",
       "      <td>AskReddit AskReddit tdi tdi tdi tdi tdi tdi As...</td>\n",
       "    </tr>\n",
       "  </tbody>\n",
       "</table>\n",
       "</div>"
      ],
      "text/plain": [
       "            username                                          subreddit\n",
       "0        --ANUSTART-  news news AdviceAnimals AskReddit explainlikei...\n",
       "1            --Sko--  DestinyTheGame DestinyTheGame DestinyTheGame C...\n",
       "2        --UNKN0WN--  AceAttorney AceAttorney AceAttorney AceAttorne...\n",
       "3  --harley--quinn--  AskReddit RoastMe tifu AskReddit funny Patriot...\n",
       "4        -A-p-r-i-l-  AskReddit AskReddit tdi tdi tdi tdi tdi tdi As..."
      ]
     },
     "execution_count": 25,
     "metadata": {},
     "output_type": "execute_result"
    }
   ],
   "source": [
    "doc_df = reddit_df.groupby('username')['subreddit'].apply(lambda x: \"%s\" % ' '.join(x)).reset_index()\n",
    "doc_df.head()"
   ]
  },
  {
   "cell_type": "code",
   "execution_count": 27,
   "metadata": {},
   "outputs": [
    {
     "data": {
      "text/plain": [
       "0    [news, news, AdviceAnimals, AskReddit, explain...\n",
       "1    [DestinyTheGame, DestinyTheGame, DestinyTheGam...\n",
       "2    [AceAttorney, AceAttorney, AceAttorney, AceAtt...\n",
       "3    [AskReddit, RoastMe, tifu, AskReddit, funny, P...\n",
       "4    [AskReddit, AskReddit, tdi, tdi, tdi, tdi, tdi...\n",
       "Name: subreddit, dtype: object"
      ]
     },
     "execution_count": 27,
     "metadata": {},
     "output_type": "execute_result"
    }
   ],
   "source": [
    "from nltk.tokenize import TreebankWordTokenizer\n",
    "tokenizer = TreebankWordTokenizer()\n",
    "document = doc_df.iloc[:, 1]\n",
    "document = document.apply(lambda row: tokenizer.tokenize(row))\n",
    "document.head()"
   ]
  },
  {
   "cell_type": "markdown",
   "metadata": {},
   "source": [
    "## Creating User-Subreddit Matrix\n",
    "Using CSC Matrix to Handle highly sparse matrix. To view normally, use : user_subreddit_matrix.todense()"
   ]
  },
  {
   "cell_type": "code",
   "execution_count": 30,
   "metadata": {},
   "outputs": [
    {
     "name": "stdout",
     "output_type": "stream",
     "text": [
      "(14999, 29280)\n"
     ]
    }
   ],
   "source": [
    "corpus_of_subs = []\n",
    "for subreddits in subreddit:\n",
    "    corpus_of_subs.append(subreddits)\n",
    "\n",
    "\n",
    "voc2id = dict(zip(corpus_of_subs, range(len(corpus_of_subs))))\n",
    "rows, cols, vals = [], [], []\n",
    "for r, d in enumerate(document):\n",
    "    for e in d:\n",
    "        if voc2id.get(e) is not None:\n",
    "            rows.append(r)\n",
    "            cols.append(voc2id[e])\n",
    "            vals.append(1)\n",
    "user_subreddit_matrix = csc_matrix((vals, (rows, cols)), dtype=np.float32)\n",
    "print((user_subreddit_matrix.shape))"
   ]
  },
  {
   "cell_type": "code",
   "execution_count": 100,
   "metadata": {},
   "outputs": [],
   "source": [
    "def computeSVD(user_subreddit_matrix, no_of_latent_factors):\n",
    "    \n",
    "    \"\"\"Compute the SVD of the given matrix.\n",
    "    :user_subreddit_matrix: a numeric matrix\n",
    "    :no_of_latent_factors : numeric scalar value\n",
    "    \n",
    "    :U  : User to concept matrix \n",
    "    :S  : Strength of the concepts matrix\n",
    "    :Vt : Subreddit to concept matrix\n",
    "    \"\"\"\n",
    "    U, s, Vt = sparsesvd(user_subreddit_matrix, no_of_latent_factors)\n",
    "    \n",
    "    dim = (len(s), len(s))\n",
    "    S = np.zeros(dim, dtype=np.float32)\n",
    "    for i in range(0, len(s)):\n",
    "        S[i,i] = mt.sqrt(s[i])\n",
    "\n",
    "    U = csc_matrix(np.transpose(U), dtype=np.float32)\n",
    "    S = csc_matrix(S, dtype=np.float32)\n",
    "    Vt = csc_matrix(Vt, dtype=np.float32)\n",
    "\n",
    "    return U, S, Vt"
   ]
  },
  {
   "cell_type": "code",
   "execution_count": 118,
   "metadata": {},
   "outputs": [],
   "source": [
    "#Compute estimated recommendations for the given user\n",
    "def computeEstimatedRecommendation(U, S, Vt, uTest):\n",
    "    \"\"\"Compute the recommendation for the given user.\n",
    "    \n",
    "    :U     : User to concept matrix \n",
    "    :S     : Strength of the concepts matrix\n",
    "    :Vt    : Subreddit to concept matrix\n",
    "    :uTest : Index of the user for which the recommendation has to be made\n",
    "    \n",
    "    :recom : List of recommendations made to the user\n",
    "    \"\"\"\n",
    " \n",
    "    #constants defining the dimensions of the estimated rating matrix\n",
    "    MAX_PID = len(subreddit)\n",
    "    MAX_UID = len(user)\n",
    "    \n",
    "    rightTerm = S*Vt \n",
    "\n",
    "    EstimatedRecommendation = np.zeros(shape=(MAX_UID, MAX_PID), dtype=np.float16)\n",
    "    for userTest in uTest:\n",
    "        prod = U[userTest, :]*rightTerm\n",
    "        # Converting the vector to dense format in order to get the indices \n",
    "        # of the movies with the best estimated ratings \n",
    "        \n",
    "        EstimatedRecommendation[userTest, :] = prod.todense()\n",
    "        recom = (-EstimatedRecommendation[userTest, :]).argsort()[:293]\n",
    "    return recom"
   ]
  },
  {
   "cell_type": "code",
   "execution_count": 113,
   "metadata": {},
   "outputs": [
    {
     "name": "stdout",
     "output_type": "stream",
     "text": [
      "Top 293 subreddits contribute a total of 65.0 % to the total subreddits in the dataset\n"
     ]
    }
   ],
   "source": [
    "n_latent_fact = top_subreddit.subreddit[top_subreddit.cummulative_pct <= 65].count()\n",
    "contribution_pct = round(top_subreddit.cummulative_pct[len(subreddit[top_subreddit.cummulative_pct <= 65])-1],1)\n",
    "\n",
    "\n",
    "print(\"Top\", n_latent_fact ,\"subreddits contribute a total of\"\n",
    "      , contribution_pct,\"%\", \"to the total subreddits in the dataset\")\n"
   ]
  },
  {
   "cell_type": "code",
   "execution_count": 114,
   "metadata": {},
   "outputs": [],
   "source": [
    "no_of_latent_factors = top_subreddit.subreddit[top_subreddit.cummulative_pct <= 65].count() #293\n",
    "no_of_recommendations_for_each_user = 5\n",
    "uTest = [np.where(user == 'zwingo')[0][0]]\n",
    "U, S, Vt = computeSVD(user_subreddit_matrix, no_of_latent_factors)"
   ]
  },
  {
   "cell_type": "code",
   "execution_count": 115,
   "metadata": {},
   "outputs": [
    {
     "name": "stdout",
     "output_type": "stream",
     "text": [
      "------------------------------------------------------------------------------------\n",
      "\n",
      "Recommendation for Redditor: zwingo\n",
      "\n",
      "------------------------------------------------------------------------------------\n",
      "\n",
      "User Subreddit History - \n",
      "\n",
      "pics\n",
      "CombatFootage\n",
      "buildapcsales\n",
      "space\n",
      "movies\n",
      "DestinyTheGame\n",
      "xboxone\n",
      "AceAttorney\n",
      "TheSimpsons\n",
      "SuicideSquad\n",
      "thatHappened\n",
      "history\n",
      "books\n",
      "Whatcouldgowrong\n",
      "TheLastAirbender\n",
      "SRSsucks\n",
      "Conservative\n",
      "natureismetal\n",
      "botsrights\n",
      "cringe\n",
      "Tinder\n",
      "PS4\n",
      "Frugal\n",
      "blackpeoplegifs\n",
      "FanTheories\n",
      "askgaybros\n",
      "Glitch_in_the_Matrix\n",
      "IPTV\n",
      "Puscifer\n",
      "VirginiaTech\n",
      "eldertrees\n",
      "litecoinmining\n",
      "europeanmalefashion\n",
      "SULeaks\n",
      "DesignatedSurvivor\n",
      "Toriko\n",
      "PublicMobile\n",
      "\n",
      "------------------------------------------------------------------------------------\n",
      "\n"
     ]
    }
   ],
   "source": [
    "print(\"------------------------------------------------------------------------------------\\n\")\n",
    "print(\"Recommendation for Redditor: %s\\n\" % user[uTest[0]])\n",
    "print(\"------------------------------------------------------------------------------------\\n\")\n",
    "print(\"User Subreddit History - \\n\")\n",
    "\n",
    "##Getting users subs history where the vals in the matrix != 0\n",
    "previous_subredit_history = subreddit[np.where(user_subreddit_matrix[uTest[0],:].todense().T != 0)[0]]\n",
    "previous_subredit_history\n",
    "for previous_subredits in previous_subredit_history:\n",
    "     print(previous_subredits)\n",
    "print(\"\\n------------------------------------------------------------------------------------\\n\")"
   ]
  },
  {
   "cell_type": "code",
   "execution_count": 119,
   "metadata": {},
   "outputs": [
    {
     "name": "stdout",
     "output_type": "stream",
     "text": [
      "------------------------------------------------------------------------------------\n",
      "\n",
      "Recommendation for zwingo are as follows - \n",
      "\n",
      "------------------------------------------------------------------------------------\n",
      "\n",
      "modnews\n",
      "HomeServer\n",
      "absolutelynotme_irl\n",
      "trees\n",
      "bootcamp\n",
      "------------------------------------------------------------------------------------\n",
      "\n"
     ]
    }
   ],
   "source": [
    "#Get the top 5 subreddit recommendations for test user\n",
    "recommended_items = computeEstimatedRecommendation(U, S, Vt, uTest)\n",
    "final_recommendation = []\n",
    "for r in subreddit[recommended_items]:\n",
    "    ##Making sure the subreddits aren't from what they already viewed before (for Novelty)\n",
    "    if r not in previous_subredit_history:\n",
    "        final_recommendation.append(r)\n",
    "        if len(final_recommendation) == no_of_recommendations_for_each_user:\n",
    "            break\n",
    "\n",
    "print(\"------------------------------------------------------------------------------------\\n\")\n",
    "print(\"Recommendation for %s are as follows - \\n\" % user[uTest[0]])\n",
    "print(\"------------------------------------------------------------------------------------\\n\")\n",
    "\n",
    "for recommendation in final_recommendation:\n",
    "    print(recommendation)\n",
    "print(\"------------------------------------------------------------------------------------\\n\")\n"
   ]
  },
  {
   "cell_type": "code",
   "execution_count": null,
   "metadata": {},
   "outputs": [],
   "source": []
  }
 ],
 "metadata": {
  "kernelspec": {
   "display_name": "Python 3",
   "language": "python",
   "name": "python3"
  },
  "language_info": {
   "codemirror_mode": {
    "name": "ipython",
    "version": 3
   },
   "file_extension": ".py",
   "mimetype": "text/x-python",
   "name": "python",
   "nbconvert_exporter": "python",
   "pygments_lexer": "ipython3",
   "version": "3.7.4"
  }
 },
 "nbformat": 4,
 "nbformat_minor": 2
}
